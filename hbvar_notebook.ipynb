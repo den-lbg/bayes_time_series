{
 "cells": [
  {
   "cell_type": "code",
   "execution_count": 5,
   "id": "100745c8-8171-4b53-b474-64857b3e3b29",
   "metadata": {
    "tags": []
   },
   "outputs": [
    {
     "name": "stderr",
     "output_type": "stream",
     "text": [
      "WARNING (pytensor.tensor.blas): Using NumPy C-API based implementation for BLAS functions.\n"
     ]
    }
   ],
   "source": [
    "import os\n",
    "\n",
    "import arviz as az\n",
    "import matplotlib.pyplot as plt\n",
    "import numpy as np\n",
    "import pandas as pd\n",
    "import pymc as pm\n",
    "\n",
    "import statsmodels.api as sm\n",
    "\n",
    "RANDOM_SEED = 8927\n",
    "rng = np.random.default_rng(RANDOM_SEED)\n",
    "az.style.use(\"arviz-darkgrid\")\n",
    "# %config InlineBackend.figure_format = 'retina'\n",
    "\n",
    "def load_toy_gdh_data():\n",
    "    try:\n",
    "        gdp_hierarchical = pd.read_csv(\n",
    "            os.path.join(\"..\", \"data\", \"gdp_data_hierarchical_clean.csv\"), index_col=0\n",
    "        )\n",
    "    except FileNotFoundError:\n",
    "        gdp_hierarchical = pd.read_csv(pm.get_data(\"gdp_data_hierarchical_clean.csv\"))\n",
    "    return gdp_hierarchical\n",
    "\n",
    "## May not need\n",
    "def plot_toy_gdh_data(gdp_hierarchical):\n",
    "    fig, axs = plt.subplots(3, 1, figsize=(20, 10))\n",
    "    for country in gdp_hierarchical[\"country\"].unique():\n",
    "        temp = gdp_hierarchical[gdp_hierarchical[\"country\"] == country].reset_index()\n",
    "        axs[0].plot(temp[\"dl_gdp\"], label=f\"{country}\")\n",
    "        axs[1].plot(temp[\"dl_cons\"], label=f\"{country}\")\n",
    "        axs[2].plot(temp[\"dl_gfcf\"], label=f\"{country}\")\n",
    "    axs[0].set_title(\"Differenced and Logged GDP\")\n",
    "    axs[1].set_title(\"Differenced and Logged Consumption\")\n",
    "    axs[2].set_title(\"Differenced and Logged Investment\")\n",
    "    axs[0].legend()\n",
    "    axs[1].legend()\n",
    "    axs[2].legend()\n",
    "    plt.suptitle(\"Macroeconomic Timeseries\")\n",
    "\n",
    "    \n",
    "    \n",
    "gdp_hierarchical = load_toy_gdh_data()\n",
    "\n"
   ]
  },
  {
   "cell_type": "code",
   "execution_count": 11,
   "id": "63f8ba34-68ef-4895-98a3-a9c177c0fccc",
   "metadata": {
    "tags": []
   },
   "outputs": [],
   "source": []
  },
  {
   "cell_type": "code",
   "execution_count": 12,
   "id": "bd7475f0-7c3d-44ff-b42f-c6cb04fd35c5",
   "metadata": {
    "tags": []
   },
   "outputs": [],
   "source": [
    "\n"
   ]
  }
 ],
 "metadata": {
  "environment": {
   "kernel": "python3",
   "name": "tf2-gpu.2-13.m116",
   "type": "gcloud",
   "uri": "gcr.io/deeplearning-platform-release/tf2-gpu.2-13:m116"
  },
  "kernelspec": {
   "display_name": "Python 3 (Local)",
   "language": "python",
   "name": "python3"
  },
  "language_info": {
   "codemirror_mode": {
    "name": "ipython",
    "version": 3
   },
   "file_extension": ".py",
   "mimetype": "text/x-python",
   "name": "python",
   "nbconvert_exporter": "python",
   "pygments_lexer": "ipython3",
   "version": "3.10.13"
  }
 },
 "nbformat": 4,
 "nbformat_minor": 5
}
