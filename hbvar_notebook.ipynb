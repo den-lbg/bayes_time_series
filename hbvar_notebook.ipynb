{
 "cells": [
  {
   "cell_type": "code",
   "execution_count": null,
   "id": "100745c8-8171-4b53-b474-64857b3e3b29",
   "metadata": {
    "tags": []
   },
   "outputs": [
    {
     "name": "stdout",
     "output_type": "stream",
     "text": [
      "prior predictive\n"
     ]
    },
    {
     "name": "stderr",
     "output_type": "stream",
     "text": [
      "Sampling: [alpha_Australia, alpha_Canada, alpha_Chile, alpha_Ireland, alpha_New Zealand, alpha_South Africa, alpha_United Kingdom, alpha_United States, alpha_hat_location, alpha_hat_scale, beta_hat_location, beta_hat_scale, lag_coefs_Australia, lag_coefs_Canada, lag_coefs_Chile, lag_coefs_Ireland, lag_coefs_New Zealand, lag_coefs_South Africa, lag_coefs_United Kingdom, lag_coefs_United States, noise_chol_Australia, noise_chol_Canada, noise_chol_Chile, noise_chol_Ireland, noise_chol_New Zealand, noise_chol_South Africa, noise_chol_United Kingdom, noise_chol_United States, obs_Australia, obs_Canada, obs_Chile, obs_Ireland, obs_New Zealand, obs_South Africa, obs_United Kingdom, obs_United States, omega_global, rho, z_scale_alpha_Australia, z_scale_alpha_Canada, z_scale_alpha_Chile, z_scale_alpha_Ireland, z_scale_alpha_New Zealand, z_scale_alpha_South Africa, z_scale_alpha_United Kingdom, z_scale_alpha_United States, z_scale_beta_Australia, z_scale_beta_Canada, z_scale_beta_Chile, z_scale_beta_Ireland, z_scale_beta_New Zealand, z_scale_beta_South Africa, z_scale_beta_United Kingdom, z_scale_beta_United States]\n"
     ]
    },
    {
     "name": "stdout",
     "output_type": "stream",
     "text": [
      "extending\n"
     ]
    },
    {
     "name": "stderr",
     "output_type": "stream",
     "text": [
      "Auto-assigning NUTS sampler...\n",
      "Initializing NUTS using jitter+adapt_diag...\n",
      "Sequential sampling (2 chains in 1 job)\n",
      "NUTS: [rho, alpha_hat_location, alpha_hat_scale, beta_hat_location, beta_hat_scale, omega_global, z_scale_beta_Australia, z_scale_alpha_Australia, lag_coefs_Australia, alpha_Australia, noise_chol_Australia, z_scale_beta_Canada, z_scale_alpha_Canada, lag_coefs_Canada, alpha_Canada, noise_chol_Canada, z_scale_beta_Chile, z_scale_alpha_Chile, lag_coefs_Chile, alpha_Chile, noise_chol_Chile, z_scale_beta_Ireland, z_scale_alpha_Ireland, lag_coefs_Ireland, alpha_Ireland, noise_chol_Ireland, z_scale_beta_New Zealand, z_scale_alpha_New Zealand, lag_coefs_New Zealand, alpha_New Zealand, noise_chol_New Zealand, z_scale_beta_South Africa, z_scale_alpha_South Africa, lag_coefs_South Africa, alpha_South Africa, noise_chol_South Africa, z_scale_beta_United Kingdom, z_scale_alpha_United Kingdom, lag_coefs_United Kingdom, alpha_United Kingdom, noise_chol_United Kingdom, z_scale_beta_United States, z_scale_alpha_United States, lag_coefs_United States, alpha_United States, noise_chol_United States]\n"
     ]
    },
    {
     "data": {
      "text/html": [
       "\n",
       "<style>\n",
       "    /* Turns off some styling */\n",
       "    progress {\n",
       "        /* gets rid of default border in Firefox and Opera. */\n",
       "        border: none;\n",
       "        /* Needs to be in here for Safari polyfill so background images work as expected. */\n",
       "        background-size: auto;\n",
       "    }\n",
       "    progress:not([value]), progress:not([value])::-webkit-progress-bar {\n",
       "        background: repeating-linear-gradient(45deg, #7e7e7e, #7e7e7e 10px, #5c5c5c 10px, #5c5c5c 20px);\n",
       "    }\n",
       "    .progress-bar-interrupted, .progress-bar-interrupted::-webkit-progress-bar {\n",
       "        background: #F44336;\n",
       "    }\n",
       "</style>\n"
      ],
      "text/plain": [
       "<IPython.core.display.HTML object>"
      ]
     },
     "metadata": {},
     "output_type": "display_data"
    },
    {
     "data": {
      "text/html": [
       "\n",
       "    <div>\n",
       "      <progress value='618' class='' max='3000' style='width:300px; height:20px; vertical-align: middle;'></progress>\n",
       "      20.60% [618/3000 15:06&lt;58:13 Sampling chain 0, 0 divergences]\n",
       "    </div>\n",
       "    "
      ],
      "text/plain": [
       "<IPython.core.display.HTML object>"
      ]
     },
     "metadata": {},
     "output_type": "display_data"
    }
   ],
   "source": [
    "import os\n",
    "\n",
    "import arviz as az\n",
    "import matplotlib.pyplot as plt\n",
    "import numpy as np\n",
    "import pandas as pd\n",
    "import pymc as pm\n",
    "\n",
    "import statsmodels.api as sm\n",
    "\n",
    "# from pymc.sampling_jax import sample_blackjax_nuts\n",
    "\n",
    "RANDOM_SEED = 8927\n",
    "rng = np.random.default_rng(RANDOM_SEED)\n",
    "az.style.use(\"arviz-darkgrid\")\n",
    "# %config InlineBackend.figure_format = 'retina'\n",
    "\n",
    "def load_toy_gdp_data():\n",
    "    try:\n",
    "        gdp_hierarchical = pd.read_csv(\n",
    "            os.path.join(\"..\", \"data\", \"gdp_data_hierarchical_clean.csv\"), index_col=0\n",
    "        )\n",
    "    except FileNotFoundError:\n",
    "        gdp_hierarchical = pd.read_csv(pm.get_data(\"gdp_data_hierarchical_clean.csv\"))\n",
    "    return gdp_hierarchical\n",
    "\n",
    "## May not need\n",
    "def plot_toy_gdp_data(gdp_hierarchical):\n",
    "    fig, axs = plt.subplots(3, 1, figsize=(20, 10))\n",
    "    for country in gdp_hierarchical[\"country\"].unique():\n",
    "        temp = gdp_hierarchical[gdp_hierarchical[\"country\"] == country].reset_index()\n",
    "        axs[0].plot(temp[\"dl_gdp\"], label=f\"{country}\")\n",
    "        axs[1].plot(temp[\"dl_cons\"], label=f\"{country}\")\n",
    "        axs[2].plot(temp[\"dl_gfcf\"], label=f\"{country}\")\n",
    "    axs[0].set_title(\"Differenced and Logged GDP\")\n",
    "    axs[1].set_title(\"Differenced and Logged Consumption\")\n",
    "    axs[2].set_title(\"Differenced and Logged Investment\")\n",
    "    axs[0].legend()\n",
    "    axs[1].legend()\n",
    "    axs[2].legend()\n",
    "    plt.suptitle(\"Macroeconomic Timeseries\")\n",
    "\n",
    "    \n",
    "### Define a helper function that will construct our autoregressive step for the marginal contribution of each lagged\n",
    "### term in each of the respective time series equations\n",
    "### Notes: this is just matrix A above.\n",
    "def calc_ar_step(lag_coefs, n_eqs, n_lags, df):\n",
    "    ars = []\n",
    "    for j in range(n_eqs):\n",
    "        ar = pm.math.sum(\n",
    "            [\n",
    "                pm.math.sum(lag_coefs[j, i] * df.values[n_lags - (i + 1) : -(i + 1)], axis=-1)\n",
    "                for i in range(n_lags)\n",
    "            ],\n",
    "            axis=0,\n",
    "        )\n",
    "        ars.append(ar)\n",
    "    beta = pm.math.stack(ars, axis=-1)\n",
    "\n",
    "    return beta\n",
    "\n",
    "\n",
    "def make_hierarchical_model(n_lags, n_eqs, df, group_field, prior_checks=True):\n",
    "    # group_field : Name of column in df that determines country/field\n",
    "    cols = [col for col in df.columns if col != group_field]\n",
    "    coords = {\"lags\": np.arange(n_lags) + 1, \"equations\": cols, \"cross_vars\": cols}\n",
    "\n",
    "    groups = df[group_field].unique()\n",
    "\n",
    "    with pm.Model(coords=coords) as model:\n",
    "        ## Hierarchical Priors\n",
    "        rho = pm.Beta(\"rho\", alpha=2, beta=2)\n",
    "        alpha_hat_location = pm.Normal(\"alpha_hat_location\", 0, 0.1)\n",
    "        alpha_hat_scale = pm.InverseGamma(\"alpha_hat_scale\", 3, 0.5)\n",
    "        beta_hat_location = pm.Normal(\"beta_hat_location\", 0, 0.1)\n",
    "        beta_hat_scale = pm.InverseGamma(\"beta_hat_scale\", 3, 0.5)\n",
    "        omega_global, _, _ = pm.LKJCholeskyCov(\n",
    "            \"omega_global\", n=n_eqs, eta=1.0, sd_dist=pm.Exponential.dist(1)\n",
    "        )\n",
    "\n",
    "        for grp in groups:\n",
    "            df_grp = df[df[group_field] == grp][cols]\n",
    "            z_scale_beta = pm.InverseGamma(f\"z_scale_beta_{grp}\", 3, 0.5)\n",
    "            z_scale_alpha = pm.InverseGamma(f\"z_scale_alpha_{grp}\", 3, 0.5)\n",
    "            lag_coefs = pm.Normal(\n",
    "                f\"lag_coefs_{grp}\",\n",
    "                mu=beta_hat_location,\n",
    "                sigma=beta_hat_scale * z_scale_beta,\n",
    "                dims=[\"equations\", \"lags\", \"cross_vars\"],\n",
    "            )\n",
    "            alpha = pm.Normal(\n",
    "                f\"alpha_{grp}\",\n",
    "                mu=alpha_hat_location,\n",
    "                sigma=alpha_hat_scale * z_scale_alpha,\n",
    "                dims=(\"equations\",),\n",
    "            )\n",
    "\n",
    "            betaX = calc_ar_step(lag_coefs, n_eqs, n_lags, df_grp)\n",
    "            betaX = pm.Deterministic(f\"betaX_{grp}\", betaX)\n",
    "            mean = alpha + betaX\n",
    "\n",
    "            n = df_grp.shape[1]\n",
    "            noise_chol, _, _ = pm.LKJCholeskyCov(\n",
    "                f\"noise_chol_{grp}\", eta=10, n=n, sd_dist=pm.Exponential.dist(1)\n",
    "            )\n",
    "            omega = pm.Deterministic(f\"omega_{grp}\", rho * omega_global + (1 - rho) * noise_chol)\n",
    "            obs = pm.MvNormal(f\"obs_{grp}\", mu=mean, chol=omega, observed=df_grp.values[n_lags:])\n",
    "\n",
    "        if prior_checks:\n",
    "            idata = pm.sample_prior_predictive()\n",
    "            return model, idata\n",
    "        else:\n",
    "            print(\"prior predictive\")\n",
    "            idata = pm.sample_prior_predictive()\n",
    "            print(\"extending\")\n",
    "            # idata.extend(sample_blackjax_nuts(2000, random_seed=120))\n",
    "            idata.extend(pm.sample(2000, random_seed=120))\n",
    "            pm.sample_posterior_predictive(idata, extend_inferencedata=True)\n",
    "    return model, idata\n",
    "\n",
    "def run():\n",
    "    gdp_hierarchical = load_toy_gdp_data()\n",
    "    plot_toy_gdp_data(gdp_hierarchical)\n",
    "    df_final = gdp_hierarchical[[\"country\", \"dl_gdp\", \"dl_cons\", \"dl_gfcf\"]]\n",
    "    model_full_test, idata_full_test = make_hierarchical_model(\n",
    "        2,\n",
    "        3,\n",
    "        df_final,\n",
    "        \"country\",\n",
    "        prior_checks=False,\n",
    "    )\n",
    "\n",
    "\n",
    "run()"
   ]
  },
  {
   "cell_type": "code",
   "execution_count": 10,
   "id": "63f8ba34-68ef-4895-98a3-a9c177c0fccc",
   "metadata": {
    "tags": []
   },
   "outputs": [
    {
     "name": "stdout",
     "output_type": "stream",
     "text": [
      "Requirement already satisfied: jax in /opt/conda/lib/python3.10/site-packages (0.4.24)\n",
      "Requirement already satisfied: jaxlib in /opt/conda/lib/python3.10/site-packages (0.4.24)\n",
      "Requirement already satisfied: ml-dtypes>=0.2.0 in /opt/conda/lib/python3.10/site-packages (from jax) (0.3.2)\n",
      "Requirement already satisfied: numpy>=1.22 in /opt/conda/lib/python3.10/site-packages (from jax) (1.23.5)\n",
      "Requirement already satisfied: opt-einsum in /opt/conda/lib/python3.10/site-packages (from jax) (3.3.0)\n",
      "Requirement already satisfied: scipy>=1.9 in /opt/conda/lib/python3.10/site-packages (from jax) (1.11.4)\n"
     ]
    }
   ],
   "source": [
    "!pip install -U jax jaxlib"
   ]
  },
  {
   "cell_type": "code",
   "execution_count": 11,
   "id": "bd7475f0-7c3d-44ff-b42f-c6cb04fd35c5",
   "metadata": {
    "tags": []
   },
   "outputs": [
    {
     "name": "stdout",
     "output_type": "stream",
     "text": [
      "jax                                      0.4.24\n",
      "jax-jumpy                                1.0.0\n",
      "jaxlib                                   0.4.24\n",
      "jupyter-server-mathjax                   0.2.6\n"
     ]
    }
   ],
   "source": [
    "!pip list | grep jax\n"
   ]
  }
 ],
 "metadata": {
  "environment": {
   "kernel": "python3",
   "name": "tf2-gpu.2-13.m116",
   "type": "gcloud",
   "uri": "gcr.io/deeplearning-platform-release/tf2-gpu.2-13:m116"
  },
  "kernelspec": {
   "display_name": "Python 3 (Local)",
   "language": "python",
   "name": "python3"
  },
  "language_info": {
   "codemirror_mode": {
    "name": "ipython",
    "version": 3
   },
   "file_extension": ".py",
   "mimetype": "text/x-python",
   "name": "python",
   "nbconvert_exporter": "python",
   "pygments_lexer": "ipython3",
   "version": "3.10.13"
  }
 },
 "nbformat": 4,
 "nbformat_minor": 5
}
